{
 "cells": [
  {
   "cell_type": "code",
   "execution_count": 3,
   "id": "1b617f6f-84cf-4c54-bea6-2c9abfc19547",
   "metadata": {},
   "outputs": [],
   "source": [
    "import gym\n",
    "from gym_anytrading.datasets import FOREX_EURUSD_1H_ASK, STOCKS_GOOGL"
   ]
  },
  {
   "cell_type": "code",
   "execution_count": 4,
   "id": "4d0bad70-d7eb-41a0-986d-dba134bbc097",
   "metadata": {},
   "outputs": [],
   "source": [
    "custom_env = gym.make('forex-v0',\n",
    "               df = FOREX_EURUSD_1H_ASK,\n",
    "               window_size = 10,\n",
    "               frame_bound = (10, 300),\n",
    "               unit_side = 'right')"
   ]
  },
  {
   "cell_type": "code",
   "execution_count": 6,
   "id": "5d37ef55-1427-473b-aa4f-28884a87e0fb",
   "metadata": {},
   "outputs": [
    {
     "name": "stdout",
     "output_type": "stream",
     "text": [
      "\n",
      "custom_env information:\n",
      "> shape: (10, 2)\n",
      "> df.shape: (6225, 5)\n",
      "> prices.shape: (300,)\n",
      "> signal_features.shape: (300, 2)\n",
      "> max_possible_profit: 1.1229001800089833\n"
     ]
    }
   ],
   "source": [
    "print()\n",
    "print(\"custom_env information:\")\n",
    "print(\"> shape:\", custom_env.shape)\n",
    "print(\"> df.shape:\", custom_env.df.shape)\n",
    "print(\"> prices.shape:\", custom_env.prices.shape)\n",
    "print(\"> signal_features.shape:\", custom_env.signal_features.shape)\n",
    "print(\"> max_possible_profit:\", custom_env.max_possible_profit())"
   ]
  },
  {
   "cell_type": "code",
   "execution_count": null,
   "id": "be74759a-0685-449c-87ff-7c5f9bc1ef84",
   "metadata": {},
   "outputs": [],
   "source": []
  }
 ],
 "metadata": {
  "kernelspec": {
   "display_name": "Python 3 (ipykernel)",
   "language": "python",
   "name": "python3"
  },
  "language_info": {
   "codemirror_mode": {
    "name": "ipython",
    "version": 3
   },
   "file_extension": ".py",
   "mimetype": "text/x-python",
   "name": "python",
   "nbconvert_exporter": "python",
   "pygments_lexer": "ipython3",
   "version": "3.9.7"
  }
 },
 "nbformat": 4,
 "nbformat_minor": 5
}
